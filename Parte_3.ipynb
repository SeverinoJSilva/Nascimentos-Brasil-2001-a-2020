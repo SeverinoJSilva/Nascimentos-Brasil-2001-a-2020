{
 "cells": [
  {
   "cell_type": "markdown",
   "id": "88a802b1-7a2d-42e0-97d2-4f240326b7b7",
   "metadata": {},
   "source": [
    "### 3ª. Etapa -  Descarte de Valores que não serão utilizado devido a ausência de dados ou dados conflitantes"
   ]
  },
  {
   "cell_type": "code",
   "execution_count": 1,
   "id": "5a0205b8-17d7-480b-a9b5-5e5728dcaee4",
   "metadata": {},
   "outputs": [],
   "source": [
    "import pandas as pd\n",
    "import numpy as np\n",
    "import warnings\n",
    "warnings.filterwarnings(\"ignore\")"
   ]
  },
  {
   "cell_type": "code",
   "execution_count": 2,
   "id": "5cb20c78-fd78-458c-a492-8e65fa7c9e2a",
   "metadata": {},
   "outputs": [
    {
     "data": {
      "text/html": [
       "<div>\n",
       "<style scoped>\n",
       "    .dataframe tbody tr th:only-of-type {\n",
       "        vertical-align: middle;\n",
       "    }\n",
       "\n",
       "    .dataframe tbody tr th {\n",
       "        vertical-align: top;\n",
       "    }\n",
       "\n",
       "    .dataframe thead th {\n",
       "        text-align: right;\n",
       "    }\n",
       "</style>\n",
       "<table border=\"1\" class=\"dataframe\">\n",
       "  <thead>\n",
       "    <tr style=\"text-align: right;\">\n",
       "      <th></th>\n",
       "      <th>IDADEMAE</th>\n",
       "      <th>GRAVIDEZ</th>\n",
       "      <th>PARTO</th>\n",
       "      <th>SEXO</th>\n",
       "      <th>PESO</th>\n",
       "      <th>IDANOMAL</th>\n",
       "      <th>ANO</th>\n",
       "      <th>FAIXA_ETARIA</th>\n",
       "      <th>CODANOMAL_CID_UNICO</th>\n",
       "    </tr>\n",
       "  </thead>\n",
       "  <tbody>\n",
       "    <tr>\n",
       "      <th>0</th>\n",
       "      <td>25.0</td>\n",
       "      <td>1.0</td>\n",
       "      <td>Normal</td>\n",
       "      <td>Masculino</td>\n",
       "      <td>3800.0</td>\n",
       "      <td>Não</td>\n",
       "      <td>2001</td>\n",
       "      <td>21-30</td>\n",
       "      <td>NaN</td>\n",
       "    </tr>\n",
       "    <tr>\n",
       "      <th>1</th>\n",
       "      <td>15.0</td>\n",
       "      <td>1.0</td>\n",
       "      <td>Normal</td>\n",
       "      <td>Masculino</td>\n",
       "      <td>3100.0</td>\n",
       "      <td>Não</td>\n",
       "      <td>2001</td>\n",
       "      <td>0-20</td>\n",
       "      <td>NaN</td>\n",
       "    </tr>\n",
       "    <tr>\n",
       "      <th>2</th>\n",
       "      <td>35.0</td>\n",
       "      <td>1.0</td>\n",
       "      <td>Cesária</td>\n",
       "      <td>Masculino</td>\n",
       "      <td>3300.0</td>\n",
       "      <td>Não</td>\n",
       "      <td>2001</td>\n",
       "      <td>31-40</td>\n",
       "      <td>NaN</td>\n",
       "    </tr>\n",
       "  </tbody>\n",
       "</table>\n",
       "</div>"
      ],
      "text/plain": [
       "   IDADEMAE  GRAVIDEZ    PARTO       SEXO    PESO IDANOMAL   ANO FAIXA_ETARIA  \\\n",
       "0      25.0       1.0   Normal  Masculino  3800.0      Não  2001        21-30   \n",
       "1      15.0       1.0   Normal  Masculino  3100.0      Não  2001         0-20   \n",
       "2      35.0       1.0  Cesária  Masculino  3300.0      Não  2001        31-40   \n",
       "\n",
       "  CODANOMAL_CID_UNICO  \n",
       "0                 NaN  \n",
       "1                 NaN  \n",
       "2                 NaN  "
      ]
     },
     "execution_count": 2,
     "metadata": {},
     "output_type": "execute_result"
    }
   ],
   "source": [
    "# Resumo da Tabela Principal\n",
    "tabelas = pd.read_csv('tabelas_v2.csv')\n",
    "tabelas.head(3)"
   ]
  },
  {
   "cell_type": "code",
   "execution_count": 3,
   "id": "12be4ea6-9bd1-4c0e-a1d8-ceca588aa6f6",
   "metadata": {},
   "outputs": [
    {
     "name": "stdout",
     "output_type": "stream",
     "text": [
      "Total de Crianças com alguma anomalia: 424,564\n",
      "Total de Crianças sem anomalia       : 58,346,722\n"
     ]
    }
   ],
   "source": [
    "#Total de Crianças com anomalias com codigo de Anomalia registrado na Coluna CODANOMAL\n",
    "c_CID_anomalia = tabelas.CODANOMAL_CID_UNICO.value_counts().sum()\n",
    "s_CID_anomalia = tabelas.CODANOMAL_CID_UNICO.value_counts(dropna=False)[0]\n",
    "print(f'Total de Crianças com alguma anomalia: {c_CID_anomalia:,.0f}')\n",
    "print(f'Total de Crianças sem anomalia       : {s_CID_anomalia:,.0f}')"
   ]
  },
  {
   "cell_type": "code",
   "execution_count": 4,
   "id": "e90848c0-5976-4f46-a092-bcb627895b4a",
   "metadata": {},
   "outputs": [
    {
     "name": "stdout",
     "output_type": "stream",
     "text": [
      "Total de Crianças com alguma anomalia: 426,609\n",
      "Total de Crianças sem anomalia       : 55,622,819\n"
     ]
    }
   ],
   "source": [
    "# Analise de Anomalias confirmadas com base na coluna IDANOMAL\n",
    "c_anomalia = tabelas.IDANOMAL[tabelas.IDANOMAL=='Sim'].count()\n",
    "s_anomalia = tabelas.IDANOMAL[tabelas.IDANOMAL=='Não'].count()\n",
    "print(f'Total de Crianças com alguma anomalia: {c_anomalia:,.0f}')\n",
    "print(f'Total de Crianças sem anomalia       : {s_anomalia:,.0f}')"
   ]
  },
  {
   "cell_type": "markdown",
   "id": "1184fbb2-3515-4467-8eae-3b803ff1f9b1",
   "metadata": {},
   "source": [
    "#### 3.1 Idenficamos inconsistência nos dados nas colunas IDANOMAL e CODANOMAL."
   ]
  },
  {
   "cell_type": "code",
   "execution_count": 5,
   "id": "395b6bb8-8281-42c0-bc80-d14cad11a97d",
   "metadata": {},
   "outputs": [
    {
     "name": "stdout",
     "output_type": "stream",
     "text": [
      "Total de Crianças marcadas com anomalia em IDANOMAL, mas sem o CID em CODANOMAL_CID_UNICO: 2,045\n",
      "Total de Crianças com registros nulos ou invalidos ou não informado, no periodo de 2001 a 2020: 2,723,903\n"
     ]
    }
   ],
   "source": [
    "# Temos uma quantidade de crianças com anomalia em IDANOMAL mais sem o registro do CID em CODANOMAL\n",
    "print(f'Total de Crianças marcadas com anomalia em IDANOMAL, mas sem o CID em CODANOMAL_CID_UNICO: {c_anomalia-c_CID_anomalia:,.0f}')\n",
    "print(f'Total de Crianças com registros nulos ou invalidos ou não informado, no periodo de 2001 a 2020: {s_CID_anomalia-s_anomalia:,.0f}')"
   ]
  },
  {
   "cell_type": "markdown",
   "id": "eb933004-816a-403f-b9b6-cdefe4a17d2d",
   "metadata": {},
   "source": [
    "#### 3.2 Com base no que foi demosntrado acima, iremos descartar esses dados Não Infornado e NAN de IDANOMAL."
   ]
  },
  {
   "cell_type": "code",
   "execution_count": 6,
   "id": "0c57571b-3e7c-49c5-85f3-4999ea0c76c5",
   "metadata": {},
   "outputs": [
    {
     "data": {
      "text/plain": [
       "Não              55622819\n",
       "NaN               1602140\n",
       "Não Informado     1119718\n",
       "Sim                426609\n",
       "Name: IDANOMAL, dtype: int64"
      ]
     },
     "execution_count": 6,
     "metadata": {},
     "output_type": "execute_result"
    }
   ],
   "source": [
    "# Com base no que foi demosntrado acima, iremos descartar esses dados Não Infornado e NAN de IDANOMAL.\n",
    "tabelas.IDANOMAL.value_counts(dropna=False)"
   ]
  },
  {
   "cell_type": "code",
   "execution_count": 7,
   "id": "e8d29508-66f9-4d70-a322-081c62da9837",
   "metadata": {},
   "outputs": [
    {
     "data": {
      "text/plain": [
       "Não    55622819\n",
       "Sim      426609\n",
       "Name: IDANOMAL, dtype: int64"
      ]
     },
     "execution_count": 7,
     "metadata": {},
     "output_type": "execute_result"
    }
   ],
   "source": [
    "tabelas = tabelas.query(\"IDANOMAL=='Sim' or IDANOMAL=='Não'\")\n",
    "tabelas.IDANOMAL.value_counts(dropna=False)"
   ]
  },
  {
   "cell_type": "markdown",
   "id": "5ec75111-2036-4cd0-89ce-fdff917e395c",
   "metadata": {},
   "source": [
    "### 3.3 Revisando os ajustes dos dados Não Infornado e NAN de IDANOMAL."
   ]
  },
  {
   "cell_type": "code",
   "execution_count": 8,
   "id": "4e3d15ac-7375-4eba-9754-d5eb744fcd5a",
   "metadata": {},
   "outputs": [
    {
     "name": "stdout",
     "output_type": "stream",
     "text": [
      "Total de Crianças com alguma anomalia: 424,518\n",
      "Total de Crianças sem anomalia       : 55,624,910\n"
     ]
    }
   ],
   "source": [
    "#Total de Crianças com anomalias com codigo de Anomalia registrado na Coluna CODANOMAL\n",
    "c_CID_anomalia = tabelas.CODANOMAL_CID_UNICO.value_counts().sum()\n",
    "s_CID_anomalia = tabelas.CODANOMAL_CID_UNICO.value_counts(dropna=False)[0]\n",
    "print(f'Total de Crianças com alguma anomalia: {c_CID_anomalia:,.0f}')\n",
    "print(f'Total de Crianças sem anomalia       : {s_CID_anomalia:,.0f}')"
   ]
  },
  {
   "cell_type": "code",
   "execution_count": 9,
   "id": "277a49a8-13cf-48f1-a4af-29b662ebbd4c",
   "metadata": {},
   "outputs": [
    {
     "name": "stdout",
     "output_type": "stream",
     "text": [
      "Total de Crianças com alguma anomalia: 426,609\n",
      "Total de Crianças sem anomalia       : 55,622,819\n"
     ]
    }
   ],
   "source": [
    "# Analise de Anomalias confirmadas com base na coluna IDANOMAL\n",
    "c_anomalia = tabelas.IDANOMAL[tabelas.IDANOMAL=='Sim'].count()\n",
    "s_anomalia = tabelas.IDANOMAL[tabelas.IDANOMAL=='Não'].count()\n",
    "print(f'Total de Crianças com alguma anomalia: {c_anomalia:,.0f}')\n",
    "print(f'Total de Crianças sem anomalia       : {s_anomalia:,.0f}')"
   ]
  },
  {
   "cell_type": "code",
   "execution_count": 10,
   "id": "aaa528fc-1a38-400a-be31-84809f5188b5",
   "metadata": {},
   "outputs": [
    {
     "name": "stdout",
     "output_type": "stream",
     "text": [
      "Total de Crianças marcadas com anomalia em IDANOMAL, mas sem o CID em CODANOMAL_CID_UNICO: 2,091\n",
      "Total de Crianças que consta sem anomalia em IDANOMAL mas apresentam CID em CODANOMAL: -2,091\n"
     ]
    }
   ],
   "source": [
    "# Temos uma quantidade de crianças com anomalia em IDANOMAL mais sem o registro do CID em CODANOMAL\n",
    "print(f'Total de Crianças marcadas com anomalia em IDANOMAL, mas sem o CID em CODANOMAL_CID_UNICO: {c_anomalia-c_CID_anomalia:,.0f}')\n",
    "print(f'Total de Crianças que consta sem anomalia em IDANOMAL mas apresentam CID em CODANOMAL: {s_anomalia -s_CID_anomalia:,.0f}')"
   ]
  },
  {
   "cell_type": "markdown",
   "id": "10764824-5f4a-431d-9968-68afd94440df",
   "metadata": {},
   "source": [
    "#### 3.4 Conciliando os dados das colunas CODANOMAL_CID_UNICO e IDANOMAL."
   ]
  },
  {
   "cell_type": "code",
   "execution_count": 11,
   "id": "f3fc10bb-c2f1-43c8-afa4-64658766366c",
   "metadata": {},
   "outputs": [
    {
     "data": {
      "text/plain": [
       "NaN     55624910\n",
       "Q699       35225\n",
       "Q668       23511\n",
       "Name: CODANOMAL_CID_UNICO, dtype: int64"
      ]
     },
     "execution_count": 11,
     "metadata": {},
     "output_type": "execute_result"
    }
   ],
   "source": [
    "tabelas.CODANOMAL_CID_UNICO.value_counts(dropna=False).head(3)"
   ]
  },
  {
   "cell_type": "code",
   "execution_count": 12,
   "id": "6cb476cd-a705-4405-9930-ff0ae58f5f7f",
   "metadata": {},
   "outputs": [
    {
     "data": {
      "text/plain": [
       "56049428"
      ]
     },
     "execution_count": 12,
     "metadata": {},
     "output_type": "execute_result"
    }
   ],
   "source": [
    "tabelas.CODANOMAL_CID_UNICO.value_counts(dropna=False).sum()"
   ]
  },
  {
   "cell_type": "code",
   "execution_count": 13,
   "id": "d20e030f-1957-4f72-b271-5e387a8d0f3a",
   "metadata": {},
   "outputs": [
    {
     "data": {
      "text/plain": [
       "Não    55622819\n",
       "Sim      426609\n",
       "Name: IDANOMAL, dtype: int64"
      ]
     },
     "execution_count": 13,
     "metadata": {},
     "output_type": "execute_result"
    }
   ],
   "source": [
    "tabelas.IDANOMAL.value_counts(dropna=False)"
   ]
  },
  {
   "cell_type": "code",
   "execution_count": 14,
   "id": "9cc9f7cc-17ff-464e-903e-4c123c268ba8",
   "metadata": {},
   "outputs": [
    {
     "data": {
      "text/plain": [
       "56049428"
      ]
     },
     "execution_count": 14,
     "metadata": {},
     "output_type": "execute_result"
    }
   ],
   "source": [
    "tabelas.IDANOMAL.value_counts(dropna=False).sum()"
   ]
  },
  {
   "cell_type": "code",
   "execution_count": 15,
   "id": "5b7146bc-9aa5-4cd0-b3c5-5630315b87ae",
   "metadata": {},
   "outputs": [
    {
     "data": {
      "text/plain": [
       "True     55624910\n",
       "False      424518\n",
       "Name: ANOMALIA_ID, dtype: int64"
      ]
     },
     "execution_count": 15,
     "metadata": {},
     "output_type": "execute_result"
    }
   ],
   "source": [
    "# Construindo uma coluna Boleana para fazer o ajuste dos dados, vamos considerar prioridade para ajuste a coluna que conte o CID.\n",
    "tabelas['ANOMALIA_ID'] = tabelas.CODANOMAL_CID_UNICO.isna()\n",
    "tabelas.ANOMALIA_ID.value_counts()"
   ]
  },
  {
   "cell_type": "code",
   "execution_count": 16,
   "id": "35b41aa9-5de5-4120-9701-c83db35abea5",
   "metadata": {},
   "outputs": [
    {
     "data": {
      "text/html": [
       "<div>\n",
       "<style scoped>\n",
       "    .dataframe tbody tr th:only-of-type {\n",
       "        vertical-align: middle;\n",
       "    }\n",
       "\n",
       "    .dataframe tbody tr th {\n",
       "        vertical-align: top;\n",
       "    }\n",
       "\n",
       "    .dataframe thead th {\n",
       "        text-align: right;\n",
       "    }\n",
       "</style>\n",
       "<table border=\"1\" class=\"dataframe\">\n",
       "  <thead>\n",
       "    <tr style=\"text-align: right;\">\n",
       "      <th></th>\n",
       "      <th>IDADEMAE</th>\n",
       "      <th>GRAVIDEZ</th>\n",
       "      <th>PARTO</th>\n",
       "      <th>SEXO</th>\n",
       "      <th>PESO</th>\n",
       "      <th>IDANOMAL</th>\n",
       "      <th>ANO</th>\n",
       "      <th>FAIXA_ETARIA</th>\n",
       "      <th>CODANOMAL_CID_UNICO</th>\n",
       "      <th>ANOMALIA_ID</th>\n",
       "    </tr>\n",
       "  </thead>\n",
       "  <tbody>\n",
       "    <tr>\n",
       "      <th>0</th>\n",
       "      <td>25.0</td>\n",
       "      <td>1.0</td>\n",
       "      <td>Normal</td>\n",
       "      <td>Masculino</td>\n",
       "      <td>3800.0</td>\n",
       "      <td>Não</td>\n",
       "      <td>2001</td>\n",
       "      <td>21-30</td>\n",
       "      <td>NaN</td>\n",
       "      <td>True</td>\n",
       "    </tr>\n",
       "    <tr>\n",
       "      <th>1</th>\n",
       "      <td>15.0</td>\n",
       "      <td>1.0</td>\n",
       "      <td>Normal</td>\n",
       "      <td>Masculino</td>\n",
       "      <td>3100.0</td>\n",
       "      <td>Não</td>\n",
       "      <td>2001</td>\n",
       "      <td>0-20</td>\n",
       "      <td>NaN</td>\n",
       "      <td>True</td>\n",
       "    </tr>\n",
       "    <tr>\n",
       "      <th>2</th>\n",
       "      <td>35.0</td>\n",
       "      <td>1.0</td>\n",
       "      <td>Cesária</td>\n",
       "      <td>Masculino</td>\n",
       "      <td>3300.0</td>\n",
       "      <td>Não</td>\n",
       "      <td>2001</td>\n",
       "      <td>31-40</td>\n",
       "      <td>NaN</td>\n",
       "      <td>True</td>\n",
       "    </tr>\n",
       "  </tbody>\n",
       "</table>\n",
       "</div>"
      ],
      "text/plain": [
       "   IDADEMAE  GRAVIDEZ    PARTO       SEXO    PESO IDANOMAL   ANO FAIXA_ETARIA  \\\n",
       "0      25.0       1.0   Normal  Masculino  3800.0      Não  2001        21-30   \n",
       "1      15.0       1.0   Normal  Masculino  3100.0      Não  2001         0-20   \n",
       "2      35.0       1.0  Cesária  Masculino  3300.0      Não  2001        31-40   \n",
       "\n",
       "  CODANOMAL_CID_UNICO  ANOMALIA_ID  \n",
       "0                 NaN         True  \n",
       "1                 NaN         True  \n",
       "2                 NaN         True  "
      ]
     },
     "execution_count": 16,
     "metadata": {},
     "output_type": "execute_result"
    }
   ],
   "source": [
    "tabelas.head(3)"
   ]
  },
  {
   "cell_type": "code",
   "execution_count": 17,
   "id": "2e011bb7-abe4-4d89-a5db-b09f49beed12",
   "metadata": {},
   "outputs": [
    {
     "data": {
      "text/html": [
       "<div>\n",
       "<style scoped>\n",
       "    .dataframe tbody tr th:only-of-type {\n",
       "        vertical-align: middle;\n",
       "    }\n",
       "\n",
       "    .dataframe tbody tr th {\n",
       "        vertical-align: top;\n",
       "    }\n",
       "\n",
       "    .dataframe thead th {\n",
       "        text-align: right;\n",
       "    }\n",
       "</style>\n",
       "<table border=\"1\" class=\"dataframe\">\n",
       "  <thead>\n",
       "    <tr style=\"text-align: right;\">\n",
       "      <th></th>\n",
       "      <th>IDADEMAE</th>\n",
       "      <th>GRAVIDEZ</th>\n",
       "      <th>PARTO</th>\n",
       "      <th>SEXO</th>\n",
       "      <th>PESO</th>\n",
       "      <th>IDANOMAL</th>\n",
       "      <th>ANO</th>\n",
       "      <th>FAIXA_ETARIA</th>\n",
       "      <th>CODANOMAL_CID_UNICO</th>\n",
       "      <th>ANOMALIA_ID</th>\n",
       "    </tr>\n",
       "  </thead>\n",
       "  <tbody>\n",
       "    <tr>\n",
       "      <th>7443029</th>\n",
       "      <td>16.0</td>\n",
       "      <td>1.0</td>\n",
       "      <td>Normal</td>\n",
       "      <td>Feminino</td>\n",
       "      <td>2300.0</td>\n",
       "      <td>Não</td>\n",
       "      <td>2003</td>\n",
       "      <td>0-20</td>\n",
       "      <td>Q667</td>\n",
       "      <td>False</td>\n",
       "    </tr>\n",
       "    <tr>\n",
       "      <th>9048946</th>\n",
       "      <td>16.0</td>\n",
       "      <td>1.0</td>\n",
       "      <td>Normal</td>\n",
       "      <td>Masculino</td>\n",
       "      <td>3220.0</td>\n",
       "      <td>Não</td>\n",
       "      <td>2003</td>\n",
       "      <td>0-20</td>\n",
       "      <td>Q038</td>\n",
       "      <td>False</td>\n",
       "    </tr>\n",
       "    <tr>\n",
       "      <th>9050749</th>\n",
       "      <td>20.0</td>\n",
       "      <td>1.0</td>\n",
       "      <td>Cesária</td>\n",
       "      <td>Masculino</td>\n",
       "      <td>1955.0</td>\n",
       "      <td>Não</td>\n",
       "      <td>2003</td>\n",
       "      <td>0-20</td>\n",
       "      <td>Q432</td>\n",
       "      <td>False</td>\n",
       "    </tr>\n",
       "  </tbody>\n",
       "</table>\n",
       "</div>"
      ],
      "text/plain": [
       "         IDADEMAE  GRAVIDEZ    PARTO       SEXO    PESO IDANOMAL   ANO  \\\n",
       "7443029      16.0       1.0   Normal   Feminino  2300.0      Não  2003   \n",
       "9048946      16.0       1.0   Normal  Masculino  3220.0      Não  2003   \n",
       "9050749      20.0       1.0  Cesária  Masculino  1955.0      Não  2003   \n",
       "\n",
       "        FAIXA_ETARIA CODANOMAL_CID_UNICO  ANOMALIA_ID  \n",
       "7443029         0-20                Q667        False  \n",
       "9048946         0-20                Q038        False  \n",
       "9050749         0-20                Q432        False  "
      ]
     },
     "execution_count": 17,
     "metadata": {},
     "output_type": "execute_result"
    }
   ],
   "source": [
    "# Na coluna 'ANOMALIA_ID' o valor 'False' indica que a coluna 'CODANOMAL_CID_UNICO' possui CID o que é contraditório com a\n",
    "# coluna IDANOMAL que indica com o 'Não' que não foi idenficada anomalia.\n",
    "# Assim vamos pegar os dados dessa coluna e obter seus index, para depois fazer o descarte\n",
    "tabela_v1 = tabelas.query(\"IDANOMAL=='Não' & ANOMALIA_ID==False\")\n",
    "tabela_v1.head(3)"
   ]
  },
  {
   "cell_type": "code",
   "execution_count": 18,
   "id": "e2423f1c-197f-4c27-b6fe-d30d84db2e7a",
   "metadata": {},
   "outputs": [
    {
     "name": "stdout",
     "output_type": "stream",
     "text": [
      "Total de Registros localizados:  488\n"
     ]
    }
   ],
   "source": [
    "lista_v1 = list(tabela_v1.index)\n",
    "print('Total de Registros localizados: ',len(lista_v1))"
   ]
  },
  {
   "cell_type": "code",
   "execution_count": 19,
   "id": "6aa5c759-8135-4f71-8566-44f23d84a1d4",
   "metadata": {},
   "outputs": [
    {
     "data": {
      "text/html": [
       "<div>\n",
       "<style scoped>\n",
       "    .dataframe tbody tr th:only-of-type {\n",
       "        vertical-align: middle;\n",
       "    }\n",
       "\n",
       "    .dataframe tbody tr th {\n",
       "        vertical-align: top;\n",
       "    }\n",
       "\n",
       "    .dataframe thead th {\n",
       "        text-align: right;\n",
       "    }\n",
       "</style>\n",
       "<table border=\"1\" class=\"dataframe\">\n",
       "  <thead>\n",
       "    <tr style=\"text-align: right;\">\n",
       "      <th></th>\n",
       "      <th>IDADEMAE</th>\n",
       "      <th>GRAVIDEZ</th>\n",
       "      <th>PARTO</th>\n",
       "      <th>SEXO</th>\n",
       "      <th>PESO</th>\n",
       "      <th>IDANOMAL</th>\n",
       "      <th>ANO</th>\n",
       "      <th>FAIXA_ETARIA</th>\n",
       "      <th>CODANOMAL_CID_UNICO</th>\n",
       "      <th>ANOMALIA_ID</th>\n",
       "    </tr>\n",
       "  </thead>\n",
       "  <tbody>\n",
       "    <tr>\n",
       "      <th>1094331</th>\n",
       "      <td>41.0</td>\n",
       "      <td>1.0</td>\n",
       "      <td>Cesária</td>\n",
       "      <td>Feminino</td>\n",
       "      <td>3225.0</td>\n",
       "      <td>Sim</td>\n",
       "      <td>2001</td>\n",
       "      <td>41-50</td>\n",
       "      <td>NaN</td>\n",
       "      <td>True</td>\n",
       "    </tr>\n",
       "    <tr>\n",
       "      <th>2117824</th>\n",
       "      <td>17.0</td>\n",
       "      <td>1.0</td>\n",
       "      <td>Normal</td>\n",
       "      <td>Feminino</td>\n",
       "      <td>3000.0</td>\n",
       "      <td>Sim</td>\n",
       "      <td>2001</td>\n",
       "      <td>0-20</td>\n",
       "      <td>NaN</td>\n",
       "      <td>True</td>\n",
       "    </tr>\n",
       "    <tr>\n",
       "      <th>2118307</th>\n",
       "      <td>22.0</td>\n",
       "      <td>1.0</td>\n",
       "      <td>Normal</td>\n",
       "      <td>Masculino</td>\n",
       "      <td>3360.0</td>\n",
       "      <td>Sim</td>\n",
       "      <td>2001</td>\n",
       "      <td>21-30</td>\n",
       "      <td>NaN</td>\n",
       "      <td>True</td>\n",
       "    </tr>\n",
       "  </tbody>\n",
       "</table>\n",
       "</div>"
      ],
      "text/plain": [
       "         IDADEMAE  GRAVIDEZ    PARTO       SEXO    PESO IDANOMAL   ANO  \\\n",
       "1094331      41.0       1.0  Cesária   Feminino  3225.0      Sim  2001   \n",
       "2117824      17.0       1.0   Normal   Feminino  3000.0      Sim  2001   \n",
       "2118307      22.0       1.0   Normal  Masculino  3360.0      Sim  2001   \n",
       "\n",
       "        FAIXA_ETARIA CODANOMAL_CID_UNICO  ANOMALIA_ID  \n",
       "1094331        41-50                 NaN         True  \n",
       "2117824         0-20                 NaN         True  \n",
       "2118307        21-30                 NaN         True  "
      ]
     },
     "execution_count": 19,
     "metadata": {},
     "output_type": "execute_result"
    }
   ],
   "source": [
    "# Na coluna 'ANOMALIA_ID' o valor 'True' indica que a coluna 'CODANOMAL_CID_UNICO' não possui CID o que é contraditório com a\n",
    "# coluna IDANOMAL que indica com o 'Sim' que foi idenficada anomalia.\n",
    "# Assim vamos pegar os dados dessa coluna e obter seus index, para depois fazer o descarte\n",
    "tabela_v2 = tabelas.query(\"IDANOMAL=='Sim' & ANOMALIA_ID==True\")\n",
    "tabela_v2.head(3)"
   ]
  },
  {
   "cell_type": "code",
   "execution_count": 20,
   "id": "7ef5973f-be7d-4570-bda4-f159b7e24791",
   "metadata": {},
   "outputs": [
    {
     "name": "stdout",
     "output_type": "stream",
     "text": [
      "Total de Registros localizados:  2579\n"
     ]
    }
   ],
   "source": [
    "lista_v2 = list(tabela_v2.index)\n",
    "print('Total de Registros localizados: ',len(lista_v2))"
   ]
  },
  {
   "cell_type": "code",
   "execution_count": 21,
   "id": "b7597f53-ea03-48ec-8f7e-b607571edce1",
   "metadata": {},
   "outputs": [],
   "source": [
    "# Deletentando Valores Inconsistentes da tabelas principal - Deletetando valores por linha usando os valores dos index\n",
    "tabelas = tabelas.drop(lista_v1)\n",
    "tabelas = tabelas.drop(lista_v2)"
   ]
  },
  {
   "cell_type": "code",
   "execution_count": 22,
   "id": "03c12f52-50cf-404c-a3d1-88d207a8c55c",
   "metadata": {},
   "outputs": [
    {
     "name": "stdout",
     "output_type": "stream",
     "text": [
      "Total de Crianças com alguma anomalia: 424,030\n",
      "Total de Crianças sem anomalia       : 55,622,331\n"
     ]
    }
   ],
   "source": [
    "# Agora Vamos visualizar os totais novamente\n",
    "#Total de Crianças com anomalias com codigo de Anomalia registrado na Coluna CODANOMAL\n",
    "c_CID_anomalia = tabelas.CODANOMAL_CID_UNICO.value_counts().sum()\n",
    "s_CID_anomalia = tabelas.CODANOMAL_CID_UNICO.value_counts(dropna=False)[0]\n",
    "print(f'Total de Crianças com alguma anomalia: {c_CID_anomalia:,.0f}')\n",
    "print(f'Total de Crianças sem anomalia       : {s_CID_anomalia:,.0f}')"
   ]
  },
  {
   "cell_type": "code",
   "execution_count": 23,
   "id": "7d3805af-904d-4588-867f-191d8a10695a",
   "metadata": {},
   "outputs": [
    {
     "name": "stdout",
     "output_type": "stream",
     "text": [
      "Total de Crianças com alguma anomalia: 424,030\n",
      "Total de Crianças sem anomalia       : 55,622,331\n"
     ]
    }
   ],
   "source": [
    "# Analise de Anomalias confirmadas com base na coluna IDANOMAL\n",
    "c_anomalia = tabelas.IDANOMAL[tabelas.IDANOMAL=='Sim'].count()\n",
    "s_anomalia = tabelas.IDANOMAL[tabelas.IDANOMAL=='Não'].count()\n",
    "print(f'Total de Crianças com alguma anomalia: {c_anomalia:,.0f}')\n",
    "print(f'Total de Crianças sem anomalia       : {s_anomalia:,.0f}')"
   ]
  },
  {
   "cell_type": "markdown",
   "id": "675ffb89-b2be-4ed7-86d5-f757bbceca4e",
   "metadata": {},
   "source": [
    "### 3.5 Fazendos os ajustes finais"
   ]
  },
  {
   "cell_type": "code",
   "execution_count": 24,
   "id": "16fe65ad-6eac-4224-94e9-97ae40c2903f",
   "metadata": {},
   "outputs": [
    {
     "data": {
      "text/html": [
       "<div>\n",
       "<style scoped>\n",
       "    .dataframe tbody tr th:only-of-type {\n",
       "        vertical-align: middle;\n",
       "    }\n",
       "\n",
       "    .dataframe tbody tr th {\n",
       "        vertical-align: top;\n",
       "    }\n",
       "\n",
       "    .dataframe thead th {\n",
       "        text-align: right;\n",
       "    }\n",
       "</style>\n",
       "<table border=\"1\" class=\"dataframe\">\n",
       "  <thead>\n",
       "    <tr style=\"text-align: right;\">\n",
       "      <th></th>\n",
       "      <th>IDADEMAE</th>\n",
       "      <th>GRAVIDEZ</th>\n",
       "      <th>PARTO</th>\n",
       "      <th>SEXO</th>\n",
       "      <th>PESO</th>\n",
       "      <th>IDANOMAL</th>\n",
       "      <th>ANO</th>\n",
       "      <th>FAIXA_ETARIA</th>\n",
       "      <th>CODANOMAL_CID_UNICO</th>\n",
       "    </tr>\n",
       "  </thead>\n",
       "  <tbody>\n",
       "    <tr>\n",
       "      <th>0</th>\n",
       "      <td>25.0</td>\n",
       "      <td>1.0</td>\n",
       "      <td>Normal</td>\n",
       "      <td>Masculino</td>\n",
       "      <td>3800.0</td>\n",
       "      <td>Não</td>\n",
       "      <td>2001</td>\n",
       "      <td>21-30</td>\n",
       "      <td>NaN</td>\n",
       "    </tr>\n",
       "    <tr>\n",
       "      <th>1</th>\n",
       "      <td>15.0</td>\n",
       "      <td>1.0</td>\n",
       "      <td>Normal</td>\n",
       "      <td>Masculino</td>\n",
       "      <td>3100.0</td>\n",
       "      <td>Não</td>\n",
       "      <td>2001</td>\n",
       "      <td>0-20</td>\n",
       "      <td>NaN</td>\n",
       "    </tr>\n",
       "    <tr>\n",
       "      <th>2</th>\n",
       "      <td>35.0</td>\n",
       "      <td>1.0</td>\n",
       "      <td>Cesária</td>\n",
       "      <td>Masculino</td>\n",
       "      <td>3300.0</td>\n",
       "      <td>Não</td>\n",
       "      <td>2001</td>\n",
       "      <td>31-40</td>\n",
       "      <td>NaN</td>\n",
       "    </tr>\n",
       "  </tbody>\n",
       "</table>\n",
       "</div>"
      ],
      "text/plain": [
       "   IDADEMAE  GRAVIDEZ    PARTO       SEXO    PESO IDANOMAL   ANO FAIXA_ETARIA  \\\n",
       "0      25.0       1.0   Normal  Masculino  3800.0      Não  2001        21-30   \n",
       "1      15.0       1.0   Normal  Masculino  3100.0      Não  2001         0-20   \n",
       "2      35.0       1.0  Cesária  Masculino  3300.0      Não  2001        31-40   \n",
       "\n",
       "  CODANOMAL_CID_UNICO  \n",
       "0                 NaN  \n",
       "1                 NaN  \n",
       "2                 NaN  "
      ]
     },
     "execution_count": 24,
     "metadata": {},
     "output_type": "execute_result"
    }
   ],
   "source": [
    "# Deletando a coluna boleana usada para auxiliar na limpeza dos dados\n",
    "tabelas = tabelas.drop(columns='ANOMALIA_ID')\n",
    "tabelas.head(3)"
   ]
  },
  {
   "cell_type": "code",
   "execution_count": 25,
   "id": "19f83fee-dd2b-4307-8211-7e8fa337ffc2",
   "metadata": {},
   "outputs": [],
   "source": [
    "# Alterando o nome das Colunas\n",
    "colunas = {'IDADEMAE':'Idade_Mae',\n",
    "           'GRAVIDEZ':'Numero_Filhos',\n",
    "           'PARTO':'Tipo_Parto',\n",
    "           'SEXO':'Sexo',\n",
    "           'PESO':'Peso',\n",
    "           'IDANOMAL':'ID_Anomalia',\n",
    "           'ANO':'Ano',\n",
    "           'FAIXA_ETARIA':'Faixa_Etaria',\n",
    "           'CODANOMAL_CID_UNICO':'ID_CID'}\n",
    "tabelas = tabelas.rename(columns=colunas)"
   ]
  },
  {
   "cell_type": "code",
   "execution_count": 26,
   "id": "12f4d166-40a1-4af4-893e-db022b77b9bb",
   "metadata": {},
   "outputs": [
    {
     "data": {
      "text/plain": [
       "Idade_Mae        float64\n",
       "Numero_Filhos    float64\n",
       "Tipo_Parto        object\n",
       "Sexo              object\n",
       "Peso             float64\n",
       "ID_Anomalia       object\n",
       "Ano                int64\n",
       "Faixa_Etaria      object\n",
       "ID_CID            object\n",
       "dtype: object"
      ]
     },
     "execution_count": 26,
     "metadata": {},
     "output_type": "execute_result"
    }
   ],
   "source": [
    "tabelas.dtypes"
   ]
  },
  {
   "cell_type": "code",
   "execution_count": 27,
   "id": "268f2d83-73ff-4ff9-a286-8df0a09624d2",
   "metadata": {},
   "outputs": [],
   "source": [
    "# Separando os dados em 3 Partes: Sem Anomalia, Com Anomalia , Com Anomalia-SD\n",
    "tabelas_com_anomalia_com_SD = tabelas.query(\"ID_CID=='Q900' or ID_CID=='Q901' or ID_CID=='Q902' or ID_CID=='Q909'\")\n",
    "tabelas_com_anomalia_sem_SD = tabelas.query(\"ID_Anomalia=='Sim'\")\n",
    "tabelas_sem_anomalia = tabelas.query(\"ID_Anomalia=='Não'\")\n",
    "# Construindo uma Nova Coluna para separa Anomalias com SD e sem SD.\n",
    "tabelas_com_anomalia_com_SD['Situacao'] = 'Anomalia com SD'\n",
    "tabelas_com_anomalia_sem_SD['Situacao'] = 'Anomalia sem SD'\n",
    "tabelas_sem_anomalia['Situacao'] = 'Sem Anomalia'\n",
    "\n"
   ]
  },
  {
   "cell_type": "code",
   "execution_count": 28,
   "id": "39376ff0-53cd-43cb-a75b-e8bd8b4a60d4",
   "metadata": {},
   "outputs": [
    {
     "name": "stdout",
     "output_type": "stream",
     "text": [
      "Total de Registros localizados:  17767\n"
     ]
    }
   ],
   "source": [
    "# Eliminando valores duplicados da coluna tabelas_com_anomalia_sem_SD, pegando index da  com com SD\n",
    "lista_v3 = list(tabelas_com_anomalia_com_SD.index)\n",
    "print('Total de Registros localizados: ',len(lista_v3))"
   ]
  },
  {
   "cell_type": "code",
   "execution_count": 29,
   "id": "1765129a-5fbf-49e1-b5c0-65a2cc41c04e",
   "metadata": {},
   "outputs": [
    {
     "name": "stdout",
     "output_type": "stream",
     "text": [
      "Total de Registros localizados apos o descarte:  406263\n"
     ]
    }
   ],
   "source": [
    "tabelas_com_anomalia_sem_SD = tabelas_com_anomalia_sem_SD.drop(lista_v3)\n",
    "lista_v4 = list(tabelas_com_anomalia_sem_SD.index)\n",
    "print('Total de Registros localizados apos o descarte: ',len(lista_v4))"
   ]
  },
  {
   "cell_type": "code",
   "execution_count": 30,
   "id": "a1722a41-2d1c-4cd7-87c0-d415f3138da4",
   "metadata": {},
   "outputs": [],
   "source": [
    "#Reagrupando os Dados\n",
    "tabelas = pd.concat([tabelas_sem_anomalia,tabelas_com_anomalia_com_SD,tabelas_com_anomalia_sem_SD])"
   ]
  },
  {
   "cell_type": "code",
   "execution_count": 31,
   "id": "7980e4a2-6454-4afc-867e-dcef4c853fd7",
   "metadata": {},
   "outputs": [],
   "source": [
    "# Substituindo os valores nulos da coluna ID_CID por Não, par aos caso em que não foi indenficada anomalia, \n",
    "# com base na informação da coluna ID_Anomalia.\n",
    "tabelas.ID_CID = tabelas.ID_CID.fillna('Não')"
   ]
  },
  {
   "cell_type": "code",
   "execution_count": 32,
   "id": "cf10ad2a-e9e3-4a36-90d3-d64dc0bbe3ed",
   "metadata": {},
   "outputs": [
    {
     "data": {
      "text/plain": [
       "Não     55622331\n",
       "Q699       35180\n",
       "Q668       23496\n",
       "Name: ID_CID, dtype: int64"
      ]
     },
     "execution_count": 32,
     "metadata": {},
     "output_type": "execute_result"
    }
   ],
   "source": [
    "tabelas.ID_CID.value_counts().head(3)"
   ]
  },
  {
   "cell_type": "code",
   "execution_count": 33,
   "id": "0d5cc8de-9145-4790-8fba-4bd0457c2430",
   "metadata": {},
   "outputs": [],
   "source": [
    "# Convertendo a coluna Ano para String\n",
    "tabelas['Ano'] = tabelas['Ano'].astype(str)"
   ]
  },
  {
   "cell_type": "code",
   "execution_count": 34,
   "id": "767bdd21-ba81-42c8-bc16-141546d5caa4",
   "metadata": {},
   "outputs": [
    {
     "data": {
      "text/plain": [
       "Não    55622331\n",
       "Sim      424030\n",
       "Name: ID_Anomalia, dtype: int64"
      ]
     },
     "execution_count": 34,
     "metadata": {},
     "output_type": "execute_result"
    }
   ],
   "source": [
    "# Verificando os dados após as modificações\n",
    "tabelas.ID_Anomalia.value_counts()"
   ]
  },
  {
   "cell_type": "code",
   "execution_count": 35,
   "id": "3d527307-78d7-4df5-a2c5-02ff3cabceb1",
   "metadata": {},
   "outputs": [
    {
     "data": {
      "text/plain": [
       "Sem Anomalia       55622331\n",
       "Anomalia sem SD      406263\n",
       "Anomalia com SD       17767\n",
       "Name: Situacao, dtype: int64"
      ]
     },
     "execution_count": 35,
     "metadata": {},
     "output_type": "execute_result"
    }
   ],
   "source": [
    "# Verificando a coluna nova criada\n",
    "tabelas.Situacao.value_counts()"
   ]
  },
  {
   "cell_type": "code",
   "execution_count": 36,
   "id": "6e262c0c-05cd-4cd5-b703-13e7948898ac",
   "metadata": {},
   "outputs": [
    {
     "data": {
      "text/plain": [
       "Sem Anomalia       99.243430\n",
       "Anomalia sem SD     0.724870\n",
       "Anomalia com SD     0.031701\n",
       "Name: Situacao, dtype: float64"
      ]
     },
     "execution_count": 36,
     "metadata": {},
     "output_type": "execute_result"
    }
   ],
   "source": [
    "tabelas.Situacao.value_counts(normalize=1)*100"
   ]
  },
  {
   "cell_type": "code",
   "execution_count": 37,
   "id": "7da5e591-2ed6-4b91-ae79-37d5823d21cd",
   "metadata": {},
   "outputs": [
    {
     "data": {
      "text/html": [
       "<div>\n",
       "<style scoped>\n",
       "    .dataframe tbody tr th:only-of-type {\n",
       "        vertical-align: middle;\n",
       "    }\n",
       "\n",
       "    .dataframe tbody tr th {\n",
       "        vertical-align: top;\n",
       "    }\n",
       "\n",
       "    .dataframe thead th {\n",
       "        text-align: right;\n",
       "    }\n",
       "</style>\n",
       "<table border=\"1\" class=\"dataframe\">\n",
       "  <thead>\n",
       "    <tr style=\"text-align: right;\">\n",
       "      <th></th>\n",
       "      <th>Idade_Mae</th>\n",
       "      <th>Numero_Filhos</th>\n",
       "      <th>Tipo_Parto</th>\n",
       "      <th>Sexo</th>\n",
       "      <th>Peso</th>\n",
       "      <th>ID_Anomalia</th>\n",
       "      <th>Ano</th>\n",
       "      <th>Faixa_Etaria</th>\n",
       "      <th>ID_CID</th>\n",
       "      <th>Situacao</th>\n",
       "    </tr>\n",
       "  </thead>\n",
       "  <tbody>\n",
       "    <tr>\n",
       "      <th>0</th>\n",
       "      <td>25.0</td>\n",
       "      <td>1.0</td>\n",
       "      <td>Normal</td>\n",
       "      <td>Masculino</td>\n",
       "      <td>3800.0</td>\n",
       "      <td>Não</td>\n",
       "      <td>2001</td>\n",
       "      <td>21-30</td>\n",
       "      <td>Não</td>\n",
       "      <td>Sem Anomalia</td>\n",
       "    </tr>\n",
       "    <tr>\n",
       "      <th>1</th>\n",
       "      <td>15.0</td>\n",
       "      <td>1.0</td>\n",
       "      <td>Normal</td>\n",
       "      <td>Masculino</td>\n",
       "      <td>3100.0</td>\n",
       "      <td>Não</td>\n",
       "      <td>2001</td>\n",
       "      <td>0-20</td>\n",
       "      <td>Não</td>\n",
       "      <td>Sem Anomalia</td>\n",
       "    </tr>\n",
       "    <tr>\n",
       "      <th>2</th>\n",
       "      <td>35.0</td>\n",
       "      <td>1.0</td>\n",
       "      <td>Cesária</td>\n",
       "      <td>Masculino</td>\n",
       "      <td>3300.0</td>\n",
       "      <td>Não</td>\n",
       "      <td>2001</td>\n",
       "      <td>31-40</td>\n",
       "      <td>Não</td>\n",
       "      <td>Sem Anomalia</td>\n",
       "    </tr>\n",
       "    <tr>\n",
       "      <th>3</th>\n",
       "      <td>17.0</td>\n",
       "      <td>1.0</td>\n",
       "      <td>Normal</td>\n",
       "      <td>Feminino</td>\n",
       "      <td>3200.0</td>\n",
       "      <td>Não</td>\n",
       "      <td>2001</td>\n",
       "      <td>0-20</td>\n",
       "      <td>Não</td>\n",
       "      <td>Sem Anomalia</td>\n",
       "    </tr>\n",
       "    <tr>\n",
       "      <th>6</th>\n",
       "      <td>24.0</td>\n",
       "      <td>1.0</td>\n",
       "      <td>Normal</td>\n",
       "      <td>Masculino</td>\n",
       "      <td>3750.0</td>\n",
       "      <td>Não</td>\n",
       "      <td>2001</td>\n",
       "      <td>21-30</td>\n",
       "      <td>Não</td>\n",
       "      <td>Sem Anomalia</td>\n",
       "    </tr>\n",
       "    <tr>\n",
       "      <th>...</th>\n",
       "      <td>...</td>\n",
       "      <td>...</td>\n",
       "      <td>...</td>\n",
       "      <td>...</td>\n",
       "      <td>...</td>\n",
       "      <td>...</td>\n",
       "      <td>...</td>\n",
       "      <td>...</td>\n",
       "      <td>...</td>\n",
       "      <td>...</td>\n",
       "    </tr>\n",
       "    <tr>\n",
       "      <th>58770629</th>\n",
       "      <td>16.0</td>\n",
       "      <td>1.0</td>\n",
       "      <td>Cesária</td>\n",
       "      <td>Masculino</td>\n",
       "      <td>2440.0</td>\n",
       "      <td>Sim</td>\n",
       "      <td>2020</td>\n",
       "      <td>0-20</td>\n",
       "      <td>Q793</td>\n",
       "      <td>Anomalia sem SD</td>\n",
       "    </tr>\n",
       "    <tr>\n",
       "      <th>58770643</th>\n",
       "      <td>21.0</td>\n",
       "      <td>1.0</td>\n",
       "      <td>Normal</td>\n",
       "      <td>Masculino</td>\n",
       "      <td>3375.0</td>\n",
       "      <td>Sim</td>\n",
       "      <td>2020</td>\n",
       "      <td>21-30</td>\n",
       "      <td>Q833</td>\n",
       "      <td>Anomalia sem SD</td>\n",
       "    </tr>\n",
       "    <tr>\n",
       "      <th>58771138</th>\n",
       "      <td>21.0</td>\n",
       "      <td>1.0</td>\n",
       "      <td>Cesária</td>\n",
       "      <td>Feminino</td>\n",
       "      <td>2714.0</td>\n",
       "      <td>Sim</td>\n",
       "      <td>2020</td>\n",
       "      <td>21-30</td>\n",
       "      <td>Q848</td>\n",
       "      <td>Anomalia sem SD</td>\n",
       "    </tr>\n",
       "    <tr>\n",
       "      <th>58771155</th>\n",
       "      <td>40.0</td>\n",
       "      <td>1.0</td>\n",
       "      <td>Cesária</td>\n",
       "      <td>Feminino</td>\n",
       "      <td>3335.0</td>\n",
       "      <td>Sim</td>\n",
       "      <td>2020</td>\n",
       "      <td>31-40</td>\n",
       "      <td>Q181</td>\n",
       "      <td>Anomalia sem SD</td>\n",
       "    </tr>\n",
       "    <tr>\n",
       "      <th>58771156</th>\n",
       "      <td>23.0</td>\n",
       "      <td>1.0</td>\n",
       "      <td>Cesária</td>\n",
       "      <td>Feminino</td>\n",
       "      <td>2700.0</td>\n",
       "      <td>Sim</td>\n",
       "      <td>2020</td>\n",
       "      <td>21-30</td>\n",
       "      <td>Q249</td>\n",
       "      <td>Anomalia sem SD</td>\n",
       "    </tr>\n",
       "  </tbody>\n",
       "</table>\n",
       "<p>56046361 rows × 10 columns</p>\n",
       "</div>"
      ],
      "text/plain": [
       "          Idade_Mae  Numero_Filhos Tipo_Parto       Sexo    Peso ID_Anomalia  \\\n",
       "0              25.0            1.0     Normal  Masculino  3800.0         Não   \n",
       "1              15.0            1.0     Normal  Masculino  3100.0         Não   \n",
       "2              35.0            1.0    Cesária  Masculino  3300.0         Não   \n",
       "3              17.0            1.0     Normal   Feminino  3200.0         Não   \n",
       "6              24.0            1.0     Normal  Masculino  3750.0         Não   \n",
       "...             ...            ...        ...        ...     ...         ...   \n",
       "58770629       16.0            1.0    Cesária  Masculino  2440.0         Sim   \n",
       "58770643       21.0            1.0     Normal  Masculino  3375.0         Sim   \n",
       "58771138       21.0            1.0    Cesária   Feminino  2714.0         Sim   \n",
       "58771155       40.0            1.0    Cesária   Feminino  3335.0         Sim   \n",
       "58771156       23.0            1.0    Cesária   Feminino  2700.0         Sim   \n",
       "\n",
       "           Ano Faixa_Etaria ID_CID         Situacao  \n",
       "0         2001        21-30    Não     Sem Anomalia  \n",
       "1         2001         0-20    Não     Sem Anomalia  \n",
       "2         2001        31-40    Não     Sem Anomalia  \n",
       "3         2001         0-20    Não     Sem Anomalia  \n",
       "6         2001        21-30    Não     Sem Anomalia  \n",
       "...        ...          ...    ...              ...  \n",
       "58770629  2020         0-20   Q793  Anomalia sem SD  \n",
       "58770643  2020        21-30   Q833  Anomalia sem SD  \n",
       "58771138  2020        21-30   Q848  Anomalia sem SD  \n",
       "58771155  2020        31-40   Q181  Anomalia sem SD  \n",
       "58771156  2020        21-30   Q249  Anomalia sem SD  \n",
       "\n",
       "[56046361 rows x 10 columns]"
      ]
     },
     "execution_count": 37,
     "metadata": {},
     "output_type": "execute_result"
    }
   ],
   "source": [
    "# Visualizando a tabela final\n",
    "tabelas"
   ]
  },
  {
   "cell_type": "code",
   "execution_count": 38,
   "id": "00c34dd9-ae9f-4a32-b2a9-0e65cfe395ea",
   "metadata": {},
   "outputs": [],
   "source": [
    "# Salvando os fabela final\n",
    "tabelas.to_csv('tabelas_v3.csv', index=False)"
   ]
  },
  {
   "cell_type": "code",
   "execution_count": null,
   "id": "5c44c423-e7a0-4087-b64c-defed03f64f3",
   "metadata": {},
   "outputs": [],
   "source": []
  }
 ],
 "metadata": {
  "kernelspec": {
   "display_name": "Python 3 (ipykernel)",
   "language": "python",
   "name": "python3"
  },
  "language_info": {
   "codemirror_mode": {
    "name": "ipython",
    "version": 3
   },
   "file_extension": ".py",
   "mimetype": "text/x-python",
   "name": "python",
   "nbconvert_exporter": "python",
   "pygments_lexer": "ipython3",
   "version": "3.9.13"
  }
 },
 "nbformat": 4,
 "nbformat_minor": 5
}
