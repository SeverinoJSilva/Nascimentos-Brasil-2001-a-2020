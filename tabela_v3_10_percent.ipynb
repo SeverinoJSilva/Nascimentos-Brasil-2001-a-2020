{
 "cells": [
  {
   "cell_type": "markdown",
   "id": "6909d677-531e-4e1f-bda0-41fa3838547e",
   "metadata": {},
   "source": [
    "## Fracionando o Conjunto de Dados Final"
   ]
  },
  {
   "cell_type": "code",
   "execution_count": 1,
   "id": "da292a47-94b3-4dc1-8b7e-b1d18a8b4d34",
   "metadata": {},
   "outputs": [],
   "source": [
    "import pandas as pd"
   ]
  },
  {
   "cell_type": "code",
   "execution_count": 2,
   "id": "613e5d62-9655-4ba5-8de8-50ea6f099fbf",
   "metadata": {},
   "outputs": [],
   "source": [
    "tabelas = pd.read_csv('tabelas_v3.csv')"
   ]
  },
  {
   "cell_type": "code",
   "execution_count": 3,
   "id": "0deb9b51-3de0-4662-b3da-27ccf21428f7",
   "metadata": {},
   "outputs": [
    {
     "data": {
      "text/html": [
       "<div>\n",
       "<style scoped>\n",
       "    .dataframe tbody tr th:only-of-type {\n",
       "        vertical-align: middle;\n",
       "    }\n",
       "\n",
       "    .dataframe tbody tr th {\n",
       "        vertical-align: top;\n",
       "    }\n",
       "\n",
       "    .dataframe thead th {\n",
       "        text-align: right;\n",
       "    }\n",
       "</style>\n",
       "<table border=\"1\" class=\"dataframe\">\n",
       "  <thead>\n",
       "    <tr style=\"text-align: right;\">\n",
       "      <th></th>\n",
       "      <th>Idade_Mae</th>\n",
       "      <th>Numero_Filhos</th>\n",
       "      <th>Tipo_Parto</th>\n",
       "      <th>Sexo</th>\n",
       "      <th>Peso</th>\n",
       "      <th>ID_Anomalia</th>\n",
       "      <th>Ano</th>\n",
       "      <th>Faixa_Etaria</th>\n",
       "      <th>ID_CID</th>\n",
       "      <th>Situacao</th>\n",
       "    </tr>\n",
       "  </thead>\n",
       "  <tbody>\n",
       "    <tr>\n",
       "      <th>0</th>\n",
       "      <td>25.0</td>\n",
       "      <td>1.0</td>\n",
       "      <td>Normal</td>\n",
       "      <td>Masculino</td>\n",
       "      <td>3800.0</td>\n",
       "      <td>Não</td>\n",
       "      <td>2001</td>\n",
       "      <td>21-30</td>\n",
       "      <td>Não</td>\n",
       "      <td>Sem Anomalia</td>\n",
       "    </tr>\n",
       "    <tr>\n",
       "      <th>1</th>\n",
       "      <td>15.0</td>\n",
       "      <td>1.0</td>\n",
       "      <td>Normal</td>\n",
       "      <td>Masculino</td>\n",
       "      <td>3100.0</td>\n",
       "      <td>Não</td>\n",
       "      <td>2001</td>\n",
       "      <td>0-20</td>\n",
       "      <td>Não</td>\n",
       "      <td>Sem Anomalia</td>\n",
       "    </tr>\n",
       "    <tr>\n",
       "      <th>2</th>\n",
       "      <td>35.0</td>\n",
       "      <td>1.0</td>\n",
       "      <td>Cesária</td>\n",
       "      <td>Masculino</td>\n",
       "      <td>3300.0</td>\n",
       "      <td>Não</td>\n",
       "      <td>2001</td>\n",
       "      <td>31-40</td>\n",
       "      <td>Não</td>\n",
       "      <td>Sem Anomalia</td>\n",
       "    </tr>\n",
       "  </tbody>\n",
       "</table>\n",
       "</div>"
      ],
      "text/plain": [
       "   Idade_Mae  Numero_Filhos Tipo_Parto       Sexo    Peso ID_Anomalia   Ano  \\\n",
       "0       25.0            1.0     Normal  Masculino  3800.0         Não  2001   \n",
       "1       15.0            1.0     Normal  Masculino  3100.0         Não  2001   \n",
       "2       35.0            1.0    Cesária  Masculino  3300.0         Não  2001   \n",
       "\n",
       "  Faixa_Etaria ID_CID      Situacao  \n",
       "0        21-30    Não  Sem Anomalia  \n",
       "1         0-20    Não  Sem Anomalia  \n",
       "2        31-40    Não  Sem Anomalia  "
      ]
     },
     "execution_count": 3,
     "metadata": {},
     "output_type": "execute_result"
    }
   ],
   "source": [
    "tabelas.head(3)"
   ]
  },
  {
   "cell_type": "code",
   "execution_count": 4,
   "id": "27faa608-375b-40f9-bd66-1b3d5c056340",
   "metadata": {},
   "outputs": [
    {
     "data": {
      "text/plain": [
       "Sem Anomalia       99.243430\n",
       "Anomalia sem SD     0.724870\n",
       "Anomalia com SD     0.031701\n",
       "Name: Situacao, dtype: float64"
      ]
     },
     "execution_count": 4,
     "metadata": {},
     "output_type": "execute_result"
    }
   ],
   "source": [
    "tabelas.Situacao.value_counts(normalize=1)*100"
   ]
  },
  {
   "cell_type": "code",
   "execution_count": 5,
   "id": "1525e24a-0637-46fd-83d5-13bfcd6814e6",
   "metadata": {},
   "outputs": [],
   "source": [
    "tabelas_frac = tabelas.sample(frac=0.10)"
   ]
  },
  {
   "cell_type": "code",
   "execution_count": 6,
   "id": "7422e313-fa31-431a-b383-1152fe83fd88",
   "metadata": {},
   "outputs": [
    {
     "data": {
      "text/plain": [
       "Sem Anomalia       99.248479\n",
       "Anomalia sem SD     0.719547\n",
       "Anomalia com SD     0.031974\n",
       "Name: Situacao, dtype: float64"
      ]
     },
     "execution_count": 6,
     "metadata": {},
     "output_type": "execute_result"
    }
   ],
   "source": [
    "tabelas_frac.Situacao.value_counts(normalize=1)*100"
   ]
  },
  {
   "cell_type": "code",
   "execution_count": 7,
   "id": "3b66c398-2961-4864-bfe6-1c652aca5d56",
   "metadata": {},
   "outputs": [
    {
     "data": {
      "text/html": [
       "<div>\n",
       "<style scoped>\n",
       "    .dataframe tbody tr th:only-of-type {\n",
       "        vertical-align: middle;\n",
       "    }\n",
       "\n",
       "    .dataframe tbody tr th {\n",
       "        vertical-align: top;\n",
       "    }\n",
       "\n",
       "    .dataframe thead th {\n",
       "        text-align: right;\n",
       "    }\n",
       "</style>\n",
       "<table border=\"1\" class=\"dataframe\">\n",
       "  <thead>\n",
       "    <tr style=\"text-align: right;\">\n",
       "      <th></th>\n",
       "      <th>Idade_Mae</th>\n",
       "      <th>Numero_Filhos</th>\n",
       "      <th>Tipo_Parto</th>\n",
       "      <th>Sexo</th>\n",
       "      <th>Peso</th>\n",
       "      <th>ID_Anomalia</th>\n",
       "      <th>Ano</th>\n",
       "      <th>Faixa_Etaria</th>\n",
       "      <th>ID_CID</th>\n",
       "      <th>Situacao</th>\n",
       "    </tr>\n",
       "  </thead>\n",
       "  <tbody>\n",
       "    <tr>\n",
       "      <th>1713586</th>\n",
       "      <td>19.0</td>\n",
       "      <td>1.0</td>\n",
       "      <td>Normal</td>\n",
       "      <td>Feminino</td>\n",
       "      <td>3600.0</td>\n",
       "      <td>Não</td>\n",
       "      <td>2001</td>\n",
       "      <td>0-20</td>\n",
       "      <td>Não</td>\n",
       "      <td>Sem Anomalia</td>\n",
       "    </tr>\n",
       "    <tr>\n",
       "      <th>45028635</th>\n",
       "      <td>20.0</td>\n",
       "      <td>1.0</td>\n",
       "      <td>Cesária</td>\n",
       "      <td>Feminino</td>\n",
       "      <td>2430.0</td>\n",
       "      <td>Não</td>\n",
       "      <td>2017</td>\n",
       "      <td>0-20</td>\n",
       "      <td>Não</td>\n",
       "      <td>Sem Anomalia</td>\n",
       "    </tr>\n",
       "    <tr>\n",
       "      <th>48256525</th>\n",
       "      <td>26.0</td>\n",
       "      <td>1.0</td>\n",
       "      <td>Normal</td>\n",
       "      <td>Masculino</td>\n",
       "      <td>3620.0</td>\n",
       "      <td>Não</td>\n",
       "      <td>2018</td>\n",
       "      <td>21-30</td>\n",
       "      <td>Não</td>\n",
       "      <td>Sem Anomalia</td>\n",
       "    </tr>\n",
       "    <tr>\n",
       "      <th>24482357</th>\n",
       "      <td>27.0</td>\n",
       "      <td>1.0</td>\n",
       "      <td>Normal</td>\n",
       "      <td>Feminino</td>\n",
       "      <td>3225.0</td>\n",
       "      <td>Não</td>\n",
       "      <td>2009</td>\n",
       "      <td>21-30</td>\n",
       "      <td>Não</td>\n",
       "      <td>Sem Anomalia</td>\n",
       "    </tr>\n",
       "    <tr>\n",
       "      <th>5132384</th>\n",
       "      <td>28.0</td>\n",
       "      <td>1.0</td>\n",
       "      <td>Normal</td>\n",
       "      <td>Feminino</td>\n",
       "      <td>2760.0</td>\n",
       "      <td>Não</td>\n",
       "      <td>2002</td>\n",
       "      <td>21-30</td>\n",
       "      <td>Não</td>\n",
       "      <td>Sem Anomalia</td>\n",
       "    </tr>\n",
       "  </tbody>\n",
       "</table>\n",
       "</div>"
      ],
      "text/plain": [
       "          Idade_Mae  Numero_Filhos Tipo_Parto       Sexo    Peso ID_Anomalia  \\\n",
       "1713586        19.0            1.0     Normal   Feminino  3600.0         Não   \n",
       "45028635       20.0            1.0    Cesária   Feminino  2430.0         Não   \n",
       "48256525       26.0            1.0     Normal  Masculino  3620.0         Não   \n",
       "24482357       27.0            1.0     Normal   Feminino  3225.0         Não   \n",
       "5132384        28.0            1.0     Normal   Feminino  2760.0         Não   \n",
       "\n",
       "           Ano Faixa_Etaria ID_CID      Situacao  \n",
       "1713586   2001         0-20    Não  Sem Anomalia  \n",
       "45028635  2017         0-20    Não  Sem Anomalia  \n",
       "48256525  2018        21-30    Não  Sem Anomalia  \n",
       "24482357  2009        21-30    Não  Sem Anomalia  \n",
       "5132384   2002        21-30    Não  Sem Anomalia  "
      ]
     },
     "execution_count": 7,
     "metadata": {},
     "output_type": "execute_result"
    }
   ],
   "source": [
    "tabelas_frac.head()"
   ]
  },
  {
   "cell_type": "code",
   "execution_count": 8,
   "id": "85184452-99ea-4828-9d62-a55f9808808b",
   "metadata": {},
   "outputs": [],
   "source": [
    "tabelas_frac.to_csv('tabela_v3_10percent.csv',index=False)"
   ]
  },
  {
   "cell_type": "code",
   "execution_count": null,
   "id": "a80de5ca-b5e2-4167-ba2f-90927f034845",
   "metadata": {},
   "outputs": [],
   "source": []
  }
 ],
 "metadata": {
  "kernelspec": {
   "display_name": "Python 3 (ipykernel)",
   "language": "python",
   "name": "python3"
  },
  "language_info": {
   "codemirror_mode": {
    "name": "ipython",
    "version": 3
   },
   "file_extension": ".py",
   "mimetype": "text/x-python",
   "name": "python",
   "nbconvert_exporter": "python",
   "pygments_lexer": "ipython3",
   "version": "3.9.13"
  }
 },
 "nbformat": 4,
 "nbformat_minor": 5
}
