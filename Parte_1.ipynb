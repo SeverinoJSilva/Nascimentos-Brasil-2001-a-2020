{
 "cells": [
  {
   "cell_type": "markdown",
   "id": "6b62d98c-d845-4cae-bab3-86946c7abfa6",
   "metadata": {},
   "source": [
    "## 1ª. Etapa - Seleção e Preparação dos Dados"
   ]
  },
  {
   "cell_type": "code",
   "execution_count": 1,
   "id": "ee6cda55-dbfb-4ee5-bcb2-c00e07b40586",
   "metadata": {},
   "outputs": [],
   "source": [
    "import pandas as pd\n",
    "import numpy as np\n",
    "import warnings\n",
    "warnings.filterwarnings(\"ignore\")"
   ]
  },
  {
   "cell_type": "markdown",
   "id": "561381a3-5476-4d88-8e91-97290d9fdb66",
   "metadata": {},
   "source": [
    "### 1. Loop para construir a tabela principal"
   ]
  },
  {
   "cell_type": "code",
   "execution_count": 2,
   "id": "2b8962ef-8e4a-4253-8e99-27ef923f220c",
   "metadata": {},
   "outputs": [],
   "source": [
    "# Selecionando os dados a serem trabalahdos neste projeto de análise de dados\n",
    "# Criando um lista para utilizar o loop for para cointruir a tabela\n",
    "lista = list(range(2001, 2021,1))\n",
    "# Criando um dataframe vazio para receber as tabelas\n",
    "tabelas = pd.DataFrame([])\n",
    "# Executando um loop para obter os dados das colunas de todas as tabelas e concatenar em um novo arquivo\n",
    "for item in lista:\n",
    "    tabela = pd.read_csv(f'Files_1996_2020/SINASC_{item}.CSV', sep=';', encoding='ISO-8859-1')\n",
    "    tabela_final = tabela[['DTNASC','IDADEMAE','GRAVIDEZ', 'PARTO', 'SEXO', 'PESO','IDANOMAL','CODANOMAL']]\n",
    "    tabelas = pd.concat([tabelas, tabela_final])\n"
   ]
  },
  {
   "cell_type": "markdown",
   "id": "868ba84e-85ca-4beb-9d24-ff80689c35fc",
   "metadata": {},
   "source": [
    "### 1.1 Reformatação dos dados e filtro dos dados para análise"
   ]
  },
  {
   "cell_type": "code",
   "execution_count": 3,
   "id": "d8a84b3e-30c0-48df-adf4-b35811c7988d",
   "metadata": {},
   "outputs": [
    {
     "data": {
      "text/plain": [
       "array(['2001', '2002', '2003', '2004', '2005', '2006', '2007', '2008',\n",
       "       '2009', '2010', '2011', '2012', '2013', '2014', '2015', '2016',\n",
       "       '2017', '2018', '2019', '2020'], dtype=object)"
      ]
     },
     "execution_count": 3,
     "metadata": {},
     "output_type": "execute_result"
    }
   ],
   "source": [
    "# Criando a coluna ANO com apply e lambda\n",
    "tabelas['ANO'] = tabelas['DTNASC'].apply(lambda x: str(x)[-4:])\n",
    "# removendo a coluna DTNASC já que criamos a coluna ano, para não aumentar muito o tamanho do Dataset\n",
    "tabelas = tabelas.drop(columns='DTNASC')\n",
    "# Visualizando os anos únicos\n",
    "tabelas.ANO.unique()"
   ]
  },
  {
   "cell_type": "code",
   "execution_count": 4,
   "id": "f9db8dd0-0401-4f9a-9c26-cba35654ca18",
   "metadata": {},
   "outputs": [],
   "source": [
    "# Definimos a idade mínima em 10 e máxima em 50 para este estudo, considerando pesquisas sobre natalidade \n",
    "# que definem esse período como o mais comum para a gestação.\n",
    "# Aplicando o filtro de idades\n",
    "tabelas = tabelas.query('IDADEMAE>=10 & IDADEMAE<=50')"
   ]
  },
  {
   "cell_type": "code",
   "execution_count": 5,
   "id": "8a4e93ac-ea02-4242-a5a7-c6fee38f6932",
   "metadata": {},
   "outputs": [],
   "source": [
    "# IDADEMAE   = Criar uma coluna com a distribuição por faixa de idade entre 10 e 50 anos\n",
    "tabelas['FAIXA_ETARIA'] = pd.cut(tabelas.IDADEMAE, bins=[0,20,30,40,50],\n",
    "                                 labels=['0-20','21-30','31-40','41-50'])"
   ]
  },
  {
   "cell_type": "code",
   "execution_count": 6,
   "id": "e02447f7-a13d-4a25-a527-453ff16e0a5a",
   "metadata": {},
   "outputs": [
    {
     "data": {
      "text/plain": [
       "1.0    57514853\n",
       "2.0     1129495\n",
       "NaN       71182\n",
       "3.0       36944\n",
       "9.0       18812\n",
       "Name: GRAVIDEZ, dtype: int64"
      ]
     },
     "execution_count": 6,
     "metadata": {},
     "output_type": "execute_result"
    }
   ],
   "source": [
    "# Conforme documentacao\n",
    "# GRAVIDEZ = Tipo de gravidez: 1– Única; 2– Dupla; 3– Tripla ou mais; 9– Ignorado\n",
    "tabelas.GRAVIDEZ.value_counts(dropna=False)"
   ]
  },
  {
   "cell_type": "code",
   "execution_count": 7,
   "id": "13c4cb52-8946-40f6-aae7-a02b51f3db1a",
   "metadata": {},
   "outputs": [
    {
     "data": {
      "text/plain": [
       "1.0    57514853\n",
       "2.0     1129495\n",
       "NaN       71182\n",
       "3.0       36944\n",
       "0.0       18812\n",
       "Name: GRAVIDEZ, dtype: int64"
      ]
     },
     "execution_count": 7,
     "metadata": {},
     "output_type": "execute_result"
    }
   ],
   "source": [
    "# GRAVIDEZ = Tipo de gravidez: 1– Única; 2– Dupla; 3– Tripla ou mais; 9– Ignorado\n",
    "tabelas.GRAVIDEZ = tabelas.GRAVIDEZ.replace(9.0,0)\n",
    "tabelas.GRAVIDEZ.value_counts(dropna=False)"
   ]
  },
  {
   "cell_type": "code",
   "execution_count": 8,
   "id": "b24f0307-a1cb-4746-b917-f591a8d49bdd",
   "metadata": {},
   "outputs": [
    {
     "data": {
      "text/plain": [
       "2.0    29394948\n",
       "1.0    29272956\n",
       "NaN       73551\n",
       "9.0       29831\n",
       "Name: PARTO, dtype: int64"
      ]
     },
     "execution_count": 8,
     "metadata": {},
     "output_type": "execute_result"
    }
   ],
   "source": [
    "tabelas.PARTO.value_counts(dropna=False)"
   ]
  },
  {
   "cell_type": "code",
   "execution_count": 9,
   "id": "c256b181-ad64-4332-a87b-866d90e57ceb",
   "metadata": {},
   "outputs": [
    {
     "data": {
      "text/plain": [
       "Cesária          29394948\n",
       "Normal           29272956\n",
       "NaN                 73551\n",
       "Não Informado       29831\n",
       "Name: PARTO, dtype: int64"
      ]
     },
     "execution_count": 9,
     "metadata": {},
     "output_type": "execute_result"
    }
   ],
   "source": [
    "# PARTO = Tipo de parto: 1– Vaginal; 2– Cesário; 9– Ignorado\n",
    "parto = {1:'Normal',\n",
    "         2:'Cesária',\n",
    "         9:'Não Informado'}\n",
    "tabelas.PARTO = tabelas.PARTO.map(parto)\n",
    "tabelas.PARTO.value_counts(dropna=False)"
   ]
  },
  {
   "cell_type": "code",
   "execution_count": 10,
   "id": "4fb27e08-de40-45ac-8281-71174f640207",
   "metadata": {},
   "outputs": [
    {
     "data": {
      "text/plain": [
       "1    28567909\n",
       "2    27196232\n",
       "M     1526728\n",
       "F     1451492\n",
       "0       27388\n",
       "9         878\n",
       "I         659\n",
       "Name: SEXO, dtype: int64"
      ]
     },
     "execution_count": 10,
     "metadata": {},
     "output_type": "execute_result"
    }
   ],
   "source": [
    "tabelas.SEXO.value_counts(dropna=False)"
   ]
  },
  {
   "cell_type": "code",
   "execution_count": 11,
   "id": "3808102e-3f08-4e3a-b51a-d1547b815506",
   "metadata": {},
   "outputs": [
    {
     "data": {
      "text/plain": [
       "Masculino        30094637\n",
       "Feminino         28647724\n",
       "Não Informado       28925\n",
       "Name: SEXO, dtype: int64"
      ]
     },
     "execution_count": 11,
     "metadata": {},
     "output_type": "execute_result"
    }
   ],
   "source": [
    "# SEXO = Sexo: 1- M – Masculino; 2- F – Feminino; 0- I – ignorado\n",
    "sexo = {1:'Masculino',\n",
    "        'M':'Masculino',\n",
    "        2:'Feminino',\n",
    "        'F':'Feminino',\n",
    "        0:'Não Informado',\n",
    "        'I':'Não Informado',\n",
    "        9:'Não Informado'}\n",
    "tabelas.SEXO = tabelas.SEXO.map(sexo)\n",
    "tabelas.SEXO.value_counts(dropna=False)"
   ]
  },
  {
   "cell_type": "code",
   "execution_count": 12,
   "id": "f9a0b87b-86b0-49c2-aeaf-7a36e892c056",
   "metadata": {},
   "outputs": [
    {
     "data": {
      "text/plain": [
       "2.0    55622819\n",
       "NaN     1601506\n",
       "9.0     1119718\n",
       "1.0      426609\n",
       "8.0         633\n",
       "5.0           1\n",
       "Name: IDANOMAL, dtype: int64"
      ]
     },
     "execution_count": 12,
     "metadata": {},
     "output_type": "execute_result"
    }
   ],
   "source": [
    "tabelas.IDANOMAL.value_counts(dropna=False)"
   ]
  },
  {
   "cell_type": "code",
   "execution_count": 13,
   "id": "9f6bbf37-8716-4e03-964f-9bb4309a8177",
   "metadata": {},
   "outputs": [
    {
     "data": {
      "text/plain": [
       "Não              55622819\n",
       "NaN               1602140\n",
       "Não Informado     1119718\n",
       "Sim                426609\n",
       "Name: IDANOMAL, dtype: int64"
      ]
     },
     "execution_count": 13,
     "metadata": {},
     "output_type": "execute_result"
    }
   ],
   "source": [
    "# IDANOMAL - Anomalia identificada: 1– Sim; 2– Não; 9– Ignorado \n",
    "idanomal = {1.0:'Sim',\n",
    "            2.0:'Não',\n",
    "            5.0: np.nan,\n",
    "            8.0: np.nan,\n",
    "            9.0: 'Não Informado'\n",
    "           }\n",
    "tabelas.IDANOMAL = tabelas.IDANOMAL.map(idanomal)\n",
    "tabelas.IDANOMAL.value_counts(dropna=False)"
   ]
  },
  {
   "cell_type": "code",
   "execution_count": 14,
   "id": "888b7f06-ce77-4aeb-a813-aaeffed32b61",
   "metadata": {},
   "outputs": [],
   "source": [
    "# Salvando o arquivo gerado em uma tabela CSV\n",
    "tabelas.to_csv('tabelas_v1.csv', index=False)"
   ]
  },
  {
   "cell_type": "code",
   "execution_count": null,
   "id": "fd0f9b98-0e1a-4e90-92e9-94515e8332d5",
   "metadata": {},
   "outputs": [],
   "source": []
  }
 ],
 "metadata": {
  "kernelspec": {
   "display_name": "Python 3 (ipykernel)",
   "language": "python",
   "name": "python3"
  },
  "language_info": {
   "codemirror_mode": {
    "name": "ipython",
    "version": 3
   },
   "file_extension": ".py",
   "mimetype": "text/x-python",
   "name": "python",
   "nbconvert_exporter": "python",
   "pygments_lexer": "ipython3",
   "version": "3.9.13"
  }
 },
 "nbformat": 4,
 "nbformat_minor": 5
}
