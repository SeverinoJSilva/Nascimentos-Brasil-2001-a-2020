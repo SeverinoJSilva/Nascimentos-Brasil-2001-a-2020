{
 "cells": [
  {
   "cell_type": "markdown",
   "id": "9a95812f-741c-44ea-a3f2-df5a08671be0",
   "metadata": {},
   "source": [
    "### 2ª Etapa, Tratamento da Coluna CODANOMAL   "
   ]
  },
  {
   "cell_type": "code",
   "execution_count": 1,
   "id": "f7f5cf15-8ded-4279-af96-927ad80e739e",
   "metadata": {},
   "outputs": [],
   "source": [
    "import pandas as pd\n",
    "import numpy as np\n",
    "import warnings\n",
    "warnings.filterwarnings(\"ignore\")"
   ]
  },
  {
   "cell_type": "code",
   "execution_count": 2,
   "id": "04b1f370-044a-48c7-a315-015f7205e44f",
   "metadata": {},
   "outputs": [
    {
     "name": "stdout",
     "output_type": "stream",
     "text": [
      "<class 'pandas.core.frame.DataFrame'>\n",
      "RangeIndex: 58771286 entries, 0 to 58771285\n",
      "Data columns (total 9 columns):\n",
      " #   Column        Dtype  \n",
      "---  ------        -----  \n",
      " 0   IDADEMAE      float64\n",
      " 1   GRAVIDEZ      float64\n",
      " 2   PARTO         object \n",
      " 3   SEXO          object \n",
      " 4   PESO          float64\n",
      " 5   IDANOMAL      object \n",
      " 6   CODANOMAL     object \n",
      " 7   ANO           int64  \n",
      " 8   FAIXA_ETARIA  object \n",
      "dtypes: float64(3), int64(1), object(5)\n",
      "memory usage: 3.9+ GB\n"
     ]
    }
   ],
   "source": [
    "tabelas = pd.read_csv('tabelas_v1.csv')\n",
    "tabelas.info()"
   ]
  },
  {
   "cell_type": "code",
   "execution_count": 3,
   "id": "e31af4c9-2de3-4702-be8d-caa88fac17ac",
   "metadata": {},
   "outputs": [
    {
     "data": {
      "text/plain": [
       "NaN                     99.277600\n",
       "Q699                     0.058663\n",
       "Q668                     0.037802\n",
       "Q690                     0.031003\n",
       "Q909                     0.028444\n",
       "                          ...    \n",
       "Q753Q760Q792             0.000002\n",
       "Q02XQ423Q917             0.000002\n",
       "Q000Q699Q870             0.000002\n",
       "Q359Q360Q740             0.000002\n",
       "Q183Q532Q564Q675Q799     0.000002\n",
       "Name: CODANOMAL, Length: 25982, dtype: float64"
      ]
     },
     "execution_count": 3,
     "metadata": {},
     "output_type": "execute_result"
    }
   ],
   "source": [
    "tabelas['CODANOMAL'].value_counts(normalize=1,dropna=False)*100"
   ]
  },
  {
   "cell_type": "code",
   "execution_count": 4,
   "id": "520ec5d4-5257-4649-b39d-35ba1770e054",
   "metadata": {},
   "outputs": [
    {
     "data": {
      "text/plain": [
       "3     99.279262\n",
       "4      0.637241\n",
       "8      0.054860\n",
       "12     0.016984\n",
       "16     0.006724\n",
       "20     0.004815\n",
       "9      0.000063\n",
       "14     0.000024\n",
       "19     0.000012\n",
       "7      0.000007\n",
       "11     0.000005\n",
       "15     0.000002\n",
       "Name: CODANOMAL_QTDE, dtype: float64"
      ]
     },
     "execution_count": 4,
     "metadata": {},
     "output_type": "execute_result"
    }
   ],
   "source": [
    "# Conferindo a quantidade de códigos das colunas\n",
    "tabelas['CODANOMAL_QTDE'] = tabelas['CODANOMAL'].apply(lambda x: len(str(x)))\n",
    "# Códigos com 3 carateres são dados do tipo nan/nulos, com 4, possuem apenas 1 código CID,\n",
    "# com mais de 4 possuem mais de 1 CID registrado\n",
    "tabelas['CODANOMAL_QTDE'].value_counts(normalize=1)*100"
   ]
  },
  {
   "cell_type": "code",
   "execution_count": 5,
   "id": "d473f4d3-5662-4f49-a53c-f34bd7efc118",
   "metadata": {},
   "outputs": [
    {
     "data": {
      "text/plain": [
       "nan     99.277600\n",
       "Q699     0.059939\n",
       "Q668     0.040004\n",
       "Q690     0.032159\n",
       "Q909     0.028541\n",
       "          ...    \n",
       "P115     0.000002\n",
       "P268     0.000002\n",
       "P769     0.000002\n",
       "L671     0.000002\n",
       "Q513     0.000002\n",
       "Name: CODANOMAL_CID_UNICO, Length: 774, dtype: float64"
      ]
     },
     "execution_count": 5,
     "metadata": {},
     "output_type": "execute_result"
    }
   ],
   "source": [
    "# Fazendo a ajustes e criando uma nova coluna com apenas um CID \n",
    "tabelas['CODANOMAL_CID_UNICO'] = tabelas['CODANOMAL'].apply(lambda x: str(x)[0:4])\n",
    "tabelas['CODANOMAL_CID_UNICO'].value_counts(normalize=1)*100\n"
   ]
  },
  {
   "cell_type": "code",
   "execution_count": 6,
   "id": "99f41ae1-783c-4a42-8b66-3f0b4e847f47",
   "metadata": {},
   "outputs": [
    {
     "data": {
      "text/plain": [
       "3    99.279262\n",
       "4     0.720738\n",
       "Name: CODANOMAL_CID_UNICO_QTDE, dtype: float64"
      ]
     },
     "execution_count": 6,
     "metadata": {},
     "output_type": "execute_result"
    }
   ],
   "source": [
    "# Criando uma nova coluna para conferir os ajustes da coluna criada com um único CID e valores NaN.\n",
    "tabelas['CODANOMAL_CID_UNICO_QTDE'] = tabelas['CODANOMAL_CID_UNICO'].apply(lambda x: len(str(x)))\n",
    "tabelas['CODANOMAL_CID_UNICO_QTDE'].value_counts(normalize=1)*100"
   ]
  },
  {
   "cell_type": "code",
   "execution_count": 7,
   "id": "66453007-9b44-4977-a228-b1e0ca280c27",
   "metadata": {},
   "outputs": [
    {
     "data": {
      "text/html": [
       "<div>\n",
       "<style scoped>\n",
       "    .dataframe tbody tr th:only-of-type {\n",
       "        vertical-align: middle;\n",
       "    }\n",
       "\n",
       "    .dataframe tbody tr th {\n",
       "        vertical-align: top;\n",
       "    }\n",
       "\n",
       "    .dataframe thead th {\n",
       "        text-align: right;\n",
       "    }\n",
       "</style>\n",
       "<table border=\"1\" class=\"dataframe\">\n",
       "  <thead>\n",
       "    <tr style=\"text-align: right;\">\n",
       "      <th></th>\n",
       "      <th>IDADEMAE</th>\n",
       "      <th>GRAVIDEZ</th>\n",
       "      <th>PARTO</th>\n",
       "      <th>SEXO</th>\n",
       "      <th>PESO</th>\n",
       "      <th>IDANOMAL</th>\n",
       "      <th>ANO</th>\n",
       "      <th>FAIXA_ETARIA</th>\n",
       "      <th>CODANOMAL_CID_UNICO</th>\n",
       "    </tr>\n",
       "  </thead>\n",
       "  <tbody>\n",
       "    <tr>\n",
       "      <th>0</th>\n",
       "      <td>25.0</td>\n",
       "      <td>1.0</td>\n",
       "      <td>Normal</td>\n",
       "      <td>Masculino</td>\n",
       "      <td>3800.0</td>\n",
       "      <td>Não</td>\n",
       "      <td>2001</td>\n",
       "      <td>21-30</td>\n",
       "      <td>nan</td>\n",
       "    </tr>\n",
       "    <tr>\n",
       "      <th>1</th>\n",
       "      <td>15.0</td>\n",
       "      <td>1.0</td>\n",
       "      <td>Normal</td>\n",
       "      <td>Masculino</td>\n",
       "      <td>3100.0</td>\n",
       "      <td>Não</td>\n",
       "      <td>2001</td>\n",
       "      <td>0-20</td>\n",
       "      <td>nan</td>\n",
       "    </tr>\n",
       "    <tr>\n",
       "      <th>2</th>\n",
       "      <td>35.0</td>\n",
       "      <td>1.0</td>\n",
       "      <td>Cesária</td>\n",
       "      <td>Masculino</td>\n",
       "      <td>3300.0</td>\n",
       "      <td>Não</td>\n",
       "      <td>2001</td>\n",
       "      <td>31-40</td>\n",
       "      <td>nan</td>\n",
       "    </tr>\n",
       "    <tr>\n",
       "      <th>3</th>\n",
       "      <td>17.0</td>\n",
       "      <td>1.0</td>\n",
       "      <td>Normal</td>\n",
       "      <td>Feminino</td>\n",
       "      <td>3200.0</td>\n",
       "      <td>Não</td>\n",
       "      <td>2001</td>\n",
       "      <td>0-20</td>\n",
       "      <td>nan</td>\n",
       "    </tr>\n",
       "    <tr>\n",
       "      <th>4</th>\n",
       "      <td>31.0</td>\n",
       "      <td>1.0</td>\n",
       "      <td>Normal</td>\n",
       "      <td>Feminino</td>\n",
       "      <td>3600.0</td>\n",
       "      <td>NaN</td>\n",
       "      <td>2001</td>\n",
       "      <td>31-40</td>\n",
       "      <td>nan</td>\n",
       "    </tr>\n",
       "  </tbody>\n",
       "</table>\n",
       "</div>"
      ],
      "text/plain": [
       "   IDADEMAE  GRAVIDEZ    PARTO       SEXO    PESO IDANOMAL   ANO FAIXA_ETARIA  \\\n",
       "0      25.0       1.0   Normal  Masculino  3800.0      Não  2001        21-30   \n",
       "1      15.0       1.0   Normal  Masculino  3100.0      Não  2001         0-20   \n",
       "2      35.0       1.0  Cesária  Masculino  3300.0      Não  2001        31-40   \n",
       "3      17.0       1.0   Normal   Feminino  3200.0      Não  2001         0-20   \n",
       "4      31.0       1.0   Normal   Feminino  3600.0      NaN  2001        31-40   \n",
       "\n",
       "  CODANOMAL_CID_UNICO  \n",
       "0                 nan  \n",
       "1                 nan  \n",
       "2                 nan  \n",
       "3                 nan  \n",
       "4                 nan  "
      ]
     },
     "execution_count": 7,
     "metadata": {},
     "output_type": "execute_result"
    }
   ],
   "source": [
    "# Agora vamos remover as colunas que utiliazamos para o calculo e a coluna CODANOMAL\n",
    "tabelas = tabelas.drop(columns=['CODANOMAL','CODANOMAL_CID_UNICO_QTDE','CODANOMAL_QTDE'])\n",
    "tabelas.head()"
   ]
  },
  {
   "cell_type": "code",
   "execution_count": 8,
   "id": "bbf325ec-6ee2-465b-a728-6e559339a0b6",
   "metadata": {},
   "outputs": [],
   "source": [
    "#Salvando a nova tabelas formatada\n",
    "tabelas.to_csv('tabelas_v2.csv', index=False)"
   ]
  },
  {
   "cell_type": "code",
   "execution_count": null,
   "id": "f5ed8d72-703e-44af-9eef-e20176cf2b2d",
   "metadata": {},
   "outputs": [],
   "source": []
  }
 ],
 "metadata": {
  "kernelspec": {
   "display_name": "Python 3 (ipykernel)",
   "language": "python",
   "name": "python3"
  },
  "language_info": {
   "codemirror_mode": {
    "name": "ipython",
    "version": 3
   },
   "file_extension": ".py",
   "mimetype": "text/x-python",
   "name": "python",
   "nbconvert_exporter": "python",
   "pygments_lexer": "ipython3",
   "version": "3.9.13"
  }
 },
 "nbformat": 4,
 "nbformat_minor": 5
}
